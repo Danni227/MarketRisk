{
 "cells": [
  {
   "cell_type": "code",
   "execution_count": 1,
   "metadata": {},
   "outputs": [],
   "source": [
    "# Note; the following assumptions was made based on Black Scholes model\n",
    "\n",
    "# 1) Europian options can only be exercised at expiration date;\n",
    "# 2) No dididend was paid out during the option life\n",
    "# 3) Risk free rate and Vol was constant\n",
    "# 4)Follows a lognomal distribution \n"
   ]
  },
  {
   "cell_type": "code",
   "execution_count": 2,
   "metadata": {},
   "outputs": [],
   "source": [
    "import pathlib\n",
    "import math   as m\n",
    "import numpy  as np\n",
    "import pandas as pd\n",
    "\n",
    "\n",
    "input_dir = pathlib.Path('InputFolder_Assig')"
   ]
  },
  {
   "cell_type": "code",
   "execution_count": 3,
   "metadata": {},
   "outputs": [],
   "source": [
    "from scipy.stats import norm"
   ]
  },
  {
   "cell_type": "code",
   "execution_count": 4,
   "metadata": {},
   "outputs": [
    {
     "data": {
      "text/html": [
       "<div>\n",
       "<style scoped>\n",
       "    .dataframe tbody tr th:only-of-type {\n",
       "        vertical-align: middle;\n",
       "    }\n",
       "\n",
       "    .dataframe tbody tr th {\n",
       "        vertical-align: top;\n",
       "    }\n",
       "\n",
       "    .dataframe thead th {\n",
       "        text-align: right;\n",
       "    }\n",
       "</style>\n",
       "<table border=\"1\" class=\"dataframe\">\n",
       "  <thead>\n",
       "    <tr style=\"text-align: right;\">\n",
       "      <th></th>\n",
       "      <th>TradeID</th>\n",
       "      <th>Rate</th>\n",
       "      <th>Maturity</th>\n",
       "      <th>Strike</th>\n",
       "      <th>Spot</th>\n",
       "      <th>Vol</th>\n",
       "    </tr>\n",
       "  </thead>\n",
       "  <tbody>\n",
       "    <tr>\n",
       "      <td>0</td>\n",
       "      <td>Trade1-Equity-Call-Option</td>\n",
       "      <td>0.02</td>\n",
       "      <td>0.25</td>\n",
       "      <td>120</td>\n",
       "      <td>100</td>\n",
       "      <td>0.2</td>\n",
       "    </tr>\n",
       "  </tbody>\n",
       "</table>\n",
       "</div>"
      ],
      "text/plain": [
       "                     TradeID  Rate  Maturity  Strike  Spot  Vol\n",
       "0  Trade1-Equity-Call-Option  0.02      0.25     120   100  0.2"
      ]
     },
     "execution_count": 4,
     "metadata": {},
     "output_type": "execute_result"
    }
   ],
   "source": [
    "call_data = pd.read_csv( input_dir / 'CallOptionData.csv', na_filter = False) # This is done to get the data from the CSV file.\n",
    "call_data"
   ]
  },
  {
   "attachments": {
    "BS.PNG": {
     "image/png": "[encoded data removed]"
    },
    "Pull.PNG": {
     "image/png": "[encoded data removed]"
    },
    "call%20option.PNG": {
     "image/png": "[encoded data removed]"
    }
   },
   "cell_type": "markdown",
   "metadata": {},
   "source": [
    "![BS.PNG](attachment:BS.PNG)![call%20option.PNG](attachment:call%20option.PNG)![Pull.PNG](attachment:Pull.PNG)"
   ]
  },
  {
   "cell_type": "markdown",
   "metadata": {},
   "source": [
    "Black scholes formula, Call option formula, Put option formula"
   ]
  },
  {
   "cell_type": "code",
   "execution_count": 5,
   "metadata": {},
   "outputs": [],
   "source": [
    "#S, underlining stock price at t=0, also known as spot price\n",
    "\n",
    "#K: strike price\n",
    "\n",
    "#T: time to maturity or expiry,the maturity of the option. Defined as T−t\n",
    "\n",
    "#r: the risk-free interest rate, assumed to be constant between t and T\n",
    "\n",
    "#sigma also known as vol: volatility of underlining stock,the standard deviation of the asset returns\n",
    "\n",
    "S=100\n",
    "K=120\n",
    "T=.25\n",
    "r=0.02\n",
    "sigma=0.2"
   ]
  },
  {
   "cell_type": "code",
   "execution_count": 6,
   "metadata": {},
   "outputs": [],
   "source": [
    "\n",
    "def black_scholes_call( S, K, T, r, sigma):\n",
    "    \n",
    "# first we have to calculate d1 and d2 parameters from black scholes formula\n",
    "\n",
    "    d1 = (m.log(S/K)\n",
    "          +(r+sigma*sigma/2.0)*T)/(sigma*m.sqrt(T))\n",
    "    \n",
    "    d2 = d1 - sigma * m.sqrt(T)\n",
    "    \n",
    "    \n",
    "# then we return the call option formular above.\n",
    "    \n",
    "    call_option = S*norm.cdf(d1)-norm.cdf(d2)*K*m.exp(-r*T)\n",
    "    return call_option\n",
    "    \n",
    "    \n",
    "def black_scholes_put( S, K, T, r, sigma):\n",
    "    \n",
    "# first we have to calculate d1 and d2 parameters from black scholes formula\n",
    "\n",
    "    d1 = (m.log(S/K)\n",
    "          +(r+sigma*sigma/2.0)*T)/(sigma*m.sqrt(T))\n",
    "    \n",
    "    d2 = d1 - sigma * m.sqrt(T)\n",
    "    \n",
    "    \n",
    "# then we return the call option formular above.\n",
    "    \n",
    "    Put_option = -S*norm.cdf(-d1)+norm.cdf(-d2)*K*m.exp(-r*T)\n",
    "\n",
    "    return Put_option"
   ]
  },
  {
   "cell_type": "code",
   "execution_count": 7,
   "metadata": {},
   "outputs": [
    {
     "name": "stdout",
     "output_type": "stream",
     "text": [
      "call option:  0.16666269433063086\n",
      "put option:  19.5681601974525\n"
     ]
    }
   ],
   "source": [
    "print (\"call option: \", black_scholes_call(S, K, T, r, sigma))\n",
    "print (\"put option: \", black_scholes_put(S, K, T, r, sigma))"
   ]
  },
  {
   "cell_type": "code",
   "execution_count": null,
   "metadata": {},
   "outputs": [],
   "source": []
  }
 ],
 "metadata": {
  "kernelspec": {
   "display_name": "Python 3",
   "language": "python",
   "name": "python3"
  },
  "language_info": {
   "codemirror_mode": {
    "name": "ipython",
    "version": 3
   },
   "file_extension": ".py",
   "mimetype": "text/x-python",
   "name": "python",
   "nbconvert_exporter": "python",
   "pygments_lexer": "ipython3",
   "version": "3.7.4"
  }
 },
 "nbformat": 4,
 "nbformat_minor": 2
}

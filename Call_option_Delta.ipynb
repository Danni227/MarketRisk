{
 "cells": [
  {
   "cell_type": "code",
   "execution_count": 1,
   "metadata": {},
   "outputs": [],
   "source": [
    "# To use these packages, we need to import them first.\n",
    "\n",
    "import pathlib           # Use the handy Python directory and path library\n",
    "import math   as m       # The standard Python math library\n",
    "import numpy  as np      # Numpy array library\n",
    "import pandas as pd      # Pandas data table and time series library\n",
    "\n",
    "\n",
    "input_dir = pathlib.Path('InputFolder_Assig')    # Our input files are here."
   ]
  },
  {
   "cell_type": "code",
   "execution_count": 2,
   "metadata": {},
   "outputs": [],
   "source": [
    "from scipy.stats import norm    # Import the Normal distribution library"
   ]
  },
  {
   "cell_type": "code",
   "execution_count": 3,
   "metadata": {},
   "outputs": [
    {
     "data": {
      "text/html": [
       "<div>\n",
       "<style scoped>\n",
       "    .dataframe tbody tr th:only-of-type {\n",
       "        vertical-align: middle;\n",
       "    }\n",
       "\n",
       "    .dataframe tbody tr th {\n",
       "        vertical-align: top;\n",
       "    }\n",
       "\n",
       "    .dataframe thead th {\n",
       "        text-align: right;\n",
       "    }\n",
       "</style>\n",
       "<table border=\"1\" class=\"dataframe\">\n",
       "  <thead>\n",
       "    <tr style=\"text-align: right;\">\n",
       "      <th></th>\n",
       "      <th>TradeID</th>\n",
       "      <th>Rate</th>\n",
       "      <th>Maturity</th>\n",
       "      <th>Strike</th>\n",
       "      <th>Spot</th>\n",
       "      <th>Vol</th>\n",
       "    </tr>\n",
       "  </thead>\n",
       "  <tbody>\n",
       "    <tr>\n",
       "      <td>0</td>\n",
       "      <td>Trade1-Equity-Call-Option</td>\n",
       "      <td>0.02</td>\n",
       "      <td>0.25</td>\n",
       "      <td>120</td>\n",
       "      <td>105</td>\n",
       "      <td>0.2</td>\n",
       "    </tr>\n",
       "  </tbody>\n",
       "</table>\n",
       "</div>"
      ],
      "text/plain": [
       "                     TradeID  Rate  Maturity  Strike  Spot  Vol\n",
       "0  Trade1-Equity-Call-Option  0.02      0.25     120   105  0.2"
      ]
     },
     "execution_count": 3,
     "metadata": {},
     "output_type": "execute_result"
    }
   ],
   "source": [
    "# This is done to get the data from the CSV file.\n",
    "\n",
    "call_data = pd.read_csv( input_dir / 'CallOptionData_delta.csv', na_filter = False) \n",
    "call_data"
   ]
  },
  {
   "attachments": {
    "d1.PNG": {
     "image/png": "[encoded data removed]"
    }
   },
   "cell_type": "markdown",
   "metadata": {},
   "source": [
    "![d1.PNG](attachment:d1.PNG)"
   ]
  },
  {
   "cell_type": "markdown",
   "metadata": {},
   "source": [
    "Implement d1 from formula above"
   ]
  },
  {
   "attachments": {
    "Delta%20Formula.PNG": {
     "image/png": "[encoded data removed]"
    }
   },
   "cell_type": "markdown",
   "metadata": {},
   "source": [
    "![Delta%20Formula.PNG](attachment:Delta%20Formula.PNG)"
   ]
  },
  {
   "cell_type": "markdown",
   "metadata": {},
   "source": [
    "Delta formula"
   ]
  },
  {
   "cell_type": "code",
   "execution_count": 4,
   "metadata": {},
   "outputs": [],
   "source": [
    "#s: underlining stuck price at t=0, aslo known as spot price\n",
    "#X: strike price \n",
    "#t: time to maturity or expiry\n",
    "#r: risk-free rate\n",
    "#sigma also known as vol: volatility of underlining stock\n",
    "\n",
    "S=105 + 0.001\n",
    "X=120\n",
    "T=0.25\n",
    "r=0.02\n",
    "sigma=0.2\n"
   ]
  },
  {
   "cell_type": "code",
   "execution_count": 5,
   "metadata": {},
   "outputs": [],
   "source": [
    "# We will use the black scholes model and calculate d1\n",
    "\n",
    "def d1 ( S, X, T, r, sigma):\n",
    "    \n",
    "# first we have to calculate d1 from formula above \n",
    "\n",
    "    d1 = (m.log(S/X)\n",
    "          +(r+sigma*sigma/2.0)*T)/(sigma*m.sqrt(T))\n",
    "    \n",
    "    \n",
    "# then we return the delta formula above.\n",
    "    \n",
    "    delta = norm.cdf(d1)\n",
    "    return delta\n"
   ]
  },
  {
   "cell_type": "code",
   "execution_count": 6,
   "metadata": {},
   "outputs": [
    {
     "name": "stdout",
     "output_type": "stream",
     "text": [
      "delta:  0.10837456286830632\n"
     ]
    }
   ],
   "source": [
    "x = d1 (S, X, T, r, sigma)\n",
    "\n",
    "print (\"delta: \", x)"
   ]
  },
  {
   "cell_type": "code",
   "execution_count": 7,
   "metadata": {},
   "outputs": [
    {
     "data": {
      "text/html": [
       "<div>\n",
       "<style scoped>\n",
       "    .dataframe tbody tr th:only-of-type {\n",
       "        vertical-align: middle;\n",
       "    }\n",
       "\n",
       "    .dataframe tbody tr th {\n",
       "        vertical-align: top;\n",
       "    }\n",
       "\n",
       "    .dataframe thead th {\n",
       "        text-align: right;\n",
       "    }\n",
       "</style>\n",
       "<table border=\"1\" class=\"dataframe\">\n",
       "  <thead>\n",
       "    <tr style=\"text-align: right;\">\n",
       "      <th></th>\n",
       "      <th>TradeID</th>\n",
       "      <th>Rate</th>\n",
       "      <th>Maturity</th>\n",
       "      <th>Strike</th>\n",
       "      <th>Spot</th>\n",
       "      <th>Vol</th>\n",
       "      <th>delta</th>\n",
       "    </tr>\n",
       "  </thead>\n",
       "  <tbody>\n",
       "    <tr>\n",
       "      <td>0</td>\n",
       "      <td>Trade1-Equity-Call-Option</td>\n",
       "      <td>0.02</td>\n",
       "      <td>0.25</td>\n",
       "      <td>120</td>\n",
       "      <td>105</td>\n",
       "      <td>0.2</td>\n",
       "      <td>0.108375</td>\n",
       "    </tr>\n",
       "  </tbody>\n",
       "</table>\n",
       "</div>"
      ],
      "text/plain": [
       "                     TradeID  Rate  Maturity  Strike  Spot  Vol     delta\n",
       "0  Trade1-Equity-Call-Option  0.02      0.25     120   105  0.2  0.108375"
      ]
     },
     "execution_count": 7,
     "metadata": {},
     "output_type": "execute_result"
    }
   ],
   "source": [
    "call_data[\"delta\"] = x\n",
    "\n",
    "\n",
    "(call_data)\n"
   ]
  },
  {
   "cell_type": "code",
   "execution_count": null,
   "metadata": {},
   "outputs": [],
   "source": []
  }
 ],
 "metadata": {
  "kernelspec": {
   "display_name": "Python 3",
   "language": "python",
   "name": "python3"
  },
  "language_info": {
   "codemirror_mode": {
    "name": "ipython",
    "version": 3
   },
   "file_extension": ".py",
   "mimetype": "text/x-python",
   "name": "python",
   "nbconvert_exporter": "python",
   "pygments_lexer": "ipython3",
   "version": "3.7.4"
  }
 },
 "nbformat": 4,
 "nbformat_minor": 2
}

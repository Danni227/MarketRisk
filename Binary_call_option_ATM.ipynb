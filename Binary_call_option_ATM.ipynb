{
 "cells": [
  {
   "cell_type": "code",
   "execution_count": 1,
   "metadata": {},
   "outputs": [],
   "source": [
    "# To use these packages, we need to import them first.\n",
    "\n",
    "import pathlib           # Use the handy Python directory and path library\n",
    "import math   as m       # The standard Python math library\n",
    "import numpy  as np      # Numpy array library\n",
    "import pandas as pd      # Pandas data table and time series library\n",
    "\n",
    "\n",
    "input_dir = pathlib.Path('InputFolder_Assig')   # Our input files are here."
   ]
  },
  {
   "cell_type": "code",
   "execution_count": 2,
   "metadata": {},
   "outputs": [],
   "source": [
    "from scipy.stats import norm      # Import the Normal distribution library"
   ]
  },
  {
   "cell_type": "code",
   "execution_count": 3,
   "metadata": {},
   "outputs": [
    {
     "data": {
      "text/html": [
       "<div>\n",
       "<style scoped>\n",
       "    .dataframe tbody tr th:only-of-type {\n",
       "        vertical-align: middle;\n",
       "    }\n",
       "\n",
       "    .dataframe tbody tr th {\n",
       "        vertical-align: top;\n",
       "    }\n",
       "\n",
       "    .dataframe thead th {\n",
       "        text-align: right;\n",
       "    }\n",
       "</style>\n",
       "<table border=\"1\" class=\"dataframe\">\n",
       "  <thead>\n",
       "    <tr style=\"text-align: right;\">\n",
       "      <th></th>\n",
       "      <th>TradeID</th>\n",
       "      <th>Rate</th>\n",
       "      <th>Maturity</th>\n",
       "      <th>Strike</th>\n",
       "      <th>Spot</th>\n",
       "      <th>Vol</th>\n",
       "    </tr>\n",
       "  </thead>\n",
       "  <tbody>\n",
       "    <tr>\n",
       "      <td>0</td>\n",
       "      <td>ATM-Binary-Call-Option</td>\n",
       "      <td>0.03</td>\n",
       "      <td>0.5</td>\n",
       "      <td>100</td>\n",
       "      <td>100</td>\n",
       "      <td>0.15</td>\n",
       "    </tr>\n",
       "  </tbody>\n",
       "</table>\n",
       "</div>"
      ],
      "text/plain": [
       "                  TradeID  Rate  Maturity  Strike  Spot   Vol\n",
       "0  ATM-Binary-Call-Option  0.03       0.5     100   100  0.15"
      ]
     },
     "execution_count": 3,
     "metadata": {},
     "output_type": "execute_result"
    }
   ],
   "source": [
    "# This is done to get the data from the CSV file.\n",
    "\n",
    "call_data = pd.read_csv( input_dir / 'CallOptionData_ATM.csv', na_filter = False)\n",
    "call_data"
   ]
  },
  {
   "attachments": {
    "exotic.png": {
     "image/png": "[encoded data removed]"
    }
   },
   "cell_type": "markdown",
   "metadata": {},
   "source": [
    "![exotic.png](attachment:exotic.png)"
   ]
  },
  {
   "cell_type": "markdown",
   "metadata": {},
   "source": [
    "Formula to implement an exotic pricing model"
   ]
  },
  {
   "attachments": {
    "BS.PNG": {
     "image/png": "[encoded data removed]"
    }
   },
   "cell_type": "markdown",
   "metadata": {},
   "source": [
    "![BS.PNG](attachment:BS.PNG)"
   ]
  },
  {
   "cell_type": "markdown",
   "metadata": {},
   "source": [
    "Formulas ( Black scholes to generate d2)"
   ]
  },
  {
   "cell_type": "code",
   "execution_count": 4,
   "metadata": {},
   "outputs": [],
   "source": [
    "#  At the money (ATM): Spot price (S) = Strike price (x)\n",
    "\n",
    "#S: underlining stuck price at t=0, aslo known as spot price\n",
    "#X: strike price \n",
    "#t: time to maturity or expiry\n",
    "#r: risk-free rate\n",
    "#sigma also known as vol: volatility of underlining stock\n",
    "\n",
    "S=100\n",
    "X=100\n",
    "T=0.5\n",
    "r=0.03\n",
    "sigma=0.15\n"
   ]
  },
  {
   "cell_type": "code",
   "execution_count": 5,
   "metadata": {},
   "outputs": [],
   "source": [
    "def d2( S, X, T, r, sigma):\n",
    "        \n",
    "\n",
    "    d1 = (m.log(S/X)                                   #first we have to calculate d1  from formula above\n",
    "          +(r+sigma*sigma/2.0)*T)/(sigma*m.sqrt(T))  \n",
    "    \n",
    "    d2 = d1 - sigma * m.sqrt(T)                        #from d1 derive d2 parameters\n",
    "    \n",
    "    ATM_call_option = np.exp(-r * T) * norm.cdf(d2)    #Implement exotic pricing\n",
    "    \n",
    "    return ATM_call_option\n"
   ]
  },
  {
   "cell_type": "code",
   "execution_count": 6,
   "metadata": {},
   "outputs": [
    {
     "name": "stdout",
     "output_type": "stream",
     "text": [
      "ATM_call_option:  0.5272476608936215\n"
     ]
    }
   ],
   "source": [
    "x = d2(S, X, T, r, sigma)\n",
    "print (\"ATM_call_option: \", x)"
   ]
  },
  {
   "cell_type": "code",
   "execution_count": 7,
   "metadata": {},
   "outputs": [
    {
     "data": {
      "text/html": [
       "<div>\n",
       "<style scoped>\n",
       "    .dataframe tbody tr th:only-of-type {\n",
       "        vertical-align: middle;\n",
       "    }\n",
       "\n",
       "    .dataframe tbody tr th {\n",
       "        vertical-align: top;\n",
       "    }\n",
       "\n",
       "    .dataframe thead th {\n",
       "        text-align: right;\n",
       "    }\n",
       "</style>\n",
       "<table border=\"1\" class=\"dataframe\">\n",
       "  <thead>\n",
       "    <tr style=\"text-align: right;\">\n",
       "      <th></th>\n",
       "      <th>TradeID</th>\n",
       "      <th>Rate</th>\n",
       "      <th>Maturity</th>\n",
       "      <th>Strike</th>\n",
       "      <th>Spot</th>\n",
       "      <th>Vol</th>\n",
       "      <th>ATM_call_option</th>\n",
       "    </tr>\n",
       "  </thead>\n",
       "  <tbody>\n",
       "    <tr>\n",
       "      <td>0</td>\n",
       "      <td>ATM-Binary-Call-Option</td>\n",
       "      <td>0.03</td>\n",
       "      <td>0.5</td>\n",
       "      <td>100</td>\n",
       "      <td>100</td>\n",
       "      <td>0.15</td>\n",
       "      <td>0.527248</td>\n",
       "    </tr>\n",
       "  </tbody>\n",
       "</table>\n",
       "</div>"
      ],
      "text/plain": [
       "                  TradeID  Rate  Maturity  Strike  Spot   Vol  ATM_call_option\n",
       "0  ATM-Binary-Call-Option  0.03       0.5     100   100  0.15         0.527248"
      ]
     },
     "execution_count": 7,
     "metadata": {},
     "output_type": "execute_result"
    }
   ],
   "source": [
    "call_data[\"ATM_call_option\"] = x\n",
    "\n",
    "\n",
    "(call_data)\n"
   ]
  },
  {
   "cell_type": "code",
   "execution_count": null,
   "metadata": {},
   "outputs": [],
   "source": []
  }
 ],
 "metadata": {
  "kernelspec": {
   "display_name": "Python 3",
   "language": "python",
   "name": "python3"
  },
  "language_info": {
   "codemirror_mode": {
    "name": "ipython",
    "version": 3
   },
   "file_extension": ".py",
   "mimetype": "text/x-python",
   "name": "python",
   "nbconvert_exporter": "python",
   "pygments_lexer": "ipython3",
   "version": "3.7.4"
  }
 },
 "nbformat": 4,
 "nbformat_minor": 2
}

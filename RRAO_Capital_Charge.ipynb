{
 "cells": [
  {
   "cell_type": "code",
   "execution_count": 1,
   "metadata": {},
   "outputs": [],
   "source": [
    "# To use these packages, we need to import them first.\n",
    "\n",
    "import pathlib         # Use the handy Python directory and path library\n",
    "import math as m       # The standard Python math library\n",
    "import numpy as np     # Numpy array library \n",
    "import pandas as pd    # Pandas data table and time series library\n",
    "\n",
    "input_dir = pathlib.Path('RRAO_Capital.csv')   # Our input files are here"
   ]
  },
  {
   "cell_type": "code",
   "execution_count": 2,
   "metadata": {},
   "outputs": [],
   "source": [
    "from scipy.stats import norm    # Import the Normal distribution library"
   ]
  },
  {
   "cell_type": "code",
   "execution_count": 3,
   "metadata": {},
   "outputs": [
    {
     "name": "stdout",
     "output_type": "stream",
     "text": [
      "Desk             True\n",
      "Region           True\n",
      "In QIS           True\n",
      "RRAO category    True\n",
      "Notional         True\n",
      "dtype: bool\n"
     ]
    },
    {
     "data": {
      "text/html": [
       "<div>\n",
       "<style scoped>\n",
       "    .dataframe tbody tr th:only-of-type {\n",
       "        vertical-align: middle;\n",
       "    }\n",
       "\n",
       "    .dataframe tbody tr th {\n",
       "        vertical-align: top;\n",
       "    }\n",
       "\n",
       "    .dataframe thead th {\n",
       "        text-align: right;\n",
       "    }\n",
       "</style>\n",
       "<table border=\"1\" class=\"dataframe\">\n",
       "  <thead>\n",
       "    <tr style=\"text-align: right;\">\n",
       "      <th></th>\n",
       "      <th>Desk</th>\n",
       "      <th>Region</th>\n",
       "      <th>In QIS</th>\n",
       "      <th>RRAO category</th>\n",
       "      <th>Notional</th>\n",
       "    </tr>\n",
       "  </thead>\n",
       "  <tbody>\n",
       "    <tr>\n",
       "      <td>0</td>\n",
       "      <td>FX emerging markets</td>\n",
       "      <td>EMEA</td>\n",
       "      <td>Yes</td>\n",
       "      <td>Exotic</td>\n",
       "      <td>500000.0</td>\n",
       "    </tr>\n",
       "    <tr>\n",
       "      <td>1</td>\n",
       "      <td>FX G20 ccys</td>\n",
       "      <td>NaN</td>\n",
       "      <td>Yes</td>\n",
       "      <td>Other</td>\n",
       "      <td>1000000.0</td>\n",
       "    </tr>\n",
       "    <tr>\n",
       "      <td>2</td>\n",
       "      <td>EQ emerging markets</td>\n",
       "      <td>AP</td>\n",
       "      <td>NO</td>\n",
       "      <td>Exotic</td>\n",
       "      <td>1000000.0</td>\n",
       "    </tr>\n",
       "    <tr>\n",
       "      <td>3</td>\n",
       "      <td>Banking Book</td>\n",
       "      <td>Global</td>\n",
       "      <td>NaN</td>\n",
       "      <td>Other</td>\n",
       "      <td>1000000.0</td>\n",
       "    </tr>\n",
       "    <tr>\n",
       "      <td>4</td>\n",
       "      <td>EQ North America</td>\n",
       "      <td>NaN</td>\n",
       "      <td>Yes</td>\n",
       "      <td>Exotic</td>\n",
       "      <td>500000.0</td>\n",
       "    </tr>\n",
       "    <tr>\n",
       "      <td>5</td>\n",
       "      <td>NaN</td>\n",
       "      <td>NaN</td>\n",
       "      <td>NaN</td>\n",
       "      <td>NaN</td>\n",
       "      <td>NaN</td>\n",
       "    </tr>\n",
       "    <tr>\n",
       "      <td>6</td>\n",
       "      <td>NaN</td>\n",
       "      <td>NaN</td>\n",
       "      <td>NaN</td>\n",
       "      <td>NaN</td>\n",
       "      <td>NaN</td>\n",
       "    </tr>\n",
       "    <tr>\n",
       "      <td>7</td>\n",
       "      <td>NaN</td>\n",
       "      <td>NaN</td>\n",
       "      <td>NaN</td>\n",
       "      <td>NaN</td>\n",
       "      <td>NaN</td>\n",
       "    </tr>\n",
       "  </tbody>\n",
       "</table>\n",
       "</div>"
      ],
      "text/plain": [
       "                  Desk  Region In QIS RRAO category   Notional\n",
       "0  FX emerging markets    EMEA    Yes        Exotic   500000.0\n",
       "1          FX G20 ccys     NaN    Yes         Other  1000000.0\n",
       "2  EQ emerging markets      AP     NO        Exotic  1000000.0\n",
       "3         Banking Book  Global    NaN         Other  1000000.0\n",
       "4     EQ North America     NaN    Yes        Exotic   500000.0\n",
       "5                  NaN     NaN    NaN           NaN        NaN\n",
       "6                  NaN     NaN    NaN           NaN        NaN\n",
       "7                  NaN     NaN    NaN           NaN        NaN"
      ]
     },
     "execution_count": 3,
     "metadata": {},
     "output_type": "execute_result"
    }
   ],
   "source": [
    "# Using na_filter = True (which is the default setting) detects missing\n",
    "# values from source and converts them to NaN in the dataframe\n",
    "\n",
    "RRAO_data = pd.read_csv(r'C:\\Users\\Elle Westwood\\Documents\\FINBA_files\\Inputfolder_Assig\\RRAO_Capital.csv', na_filter = True )\n",
    "\n",
    "print( RRAO_data.isnull().any() )\n",
    "\n",
    "RRAO_data"
   ]
  },
  {
   "cell_type": "code",
   "execution_count": 4,
   "metadata": {},
   "outputs": [
    {
     "data": {
      "text/html": [
       "<div>\n",
       "<style scoped>\n",
       "    .dataframe tbody tr th:only-of-type {\n",
       "        vertical-align: middle;\n",
       "    }\n",
       "\n",
       "    .dataframe tbody tr th {\n",
       "        vertical-align: top;\n",
       "    }\n",
       "\n",
       "    .dataframe thead th {\n",
       "        text-align: right;\n",
       "    }\n",
       "</style>\n",
       "<table border=\"1\" class=\"dataframe\">\n",
       "  <thead>\n",
       "    <tr style=\"text-align: right;\">\n",
       "      <th></th>\n",
       "      <th>Desk</th>\n",
       "      <th>Region</th>\n",
       "      <th>In QIS</th>\n",
       "      <th>RRAO category</th>\n",
       "      <th>Notional</th>\n",
       "    </tr>\n",
       "  </thead>\n",
       "  <tbody>\n",
       "    <tr>\n",
       "      <td>0</td>\n",
       "      <td>FX emerging markets</td>\n",
       "      <td>EMEA</td>\n",
       "      <td>Yes</td>\n",
       "      <td>Exotic</td>\n",
       "      <td>500000.0</td>\n",
       "    </tr>\n",
       "    <tr>\n",
       "      <td>1</td>\n",
       "      <td>FX G20 ccys</td>\n",
       "      <td>NaN</td>\n",
       "      <td>Yes</td>\n",
       "      <td>Other</td>\n",
       "      <td>1000000.0</td>\n",
       "    </tr>\n",
       "    <tr>\n",
       "      <td>4</td>\n",
       "      <td>EQ North America</td>\n",
       "      <td>NaN</td>\n",
       "      <td>Yes</td>\n",
       "      <td>Exotic</td>\n",
       "      <td>500000.0</td>\n",
       "    </tr>\n",
       "  </tbody>\n",
       "</table>\n",
       "</div>"
      ],
      "text/plain": [
       "                  Desk Region In QIS RRAO category   Notional\n",
       "0  FX emerging markets   EMEA    Yes        Exotic   500000.0\n",
       "1          FX G20 ccys    NaN    Yes         Other  1000000.0\n",
       "4     EQ North America    NaN    Yes        Exotic   500000.0"
      ]
     },
     "execution_count": 4,
     "metadata": {},
     "output_type": "execute_result"
    }
   ],
   "source": [
    "# We are looking to select rows where 'In QIS' is 'Yes' and return dataframe we have renamed 'QIS_YES'\n",
    "\n",
    "QIS_YES=RRAO_data.loc[(RRAO_data['In QIS']==\"Yes\")]\n",
    "QIS_YES.head()\n"
   ]
  },
  {
   "cell_type": "code",
   "execution_count": 5,
   "metadata": {},
   "outputs": [
    {
     "name": "stderr",
     "output_type": "stream",
     "text": [
      "C:\\Users\\Elle Westwood\\Anaconda3\\lib\\site-packages\\pandas\\core\\indexing.py:376: SettingWithCopyWarning: \n",
      "A value is trying to be set on a copy of a slice from a DataFrame.\n",
      "Try using .loc[row_indexer,col_indexer] = value instead\n",
      "\n",
      "See the caveats in the documentation: http://pandas.pydata.org/pandas-docs/stable/user_guide/indexing.html#returning-a-view-versus-a-copy\n",
      "  self.obj[key] = _infer_fill_value(value)\n",
      "C:\\Users\\Elle Westwood\\Anaconda3\\lib\\site-packages\\pandas\\core\\indexing.py:494: SettingWithCopyWarning: \n",
      "A value is trying to be set on a copy of a slice from a DataFrame.\n",
      "Try using .loc[row_indexer,col_indexer] = value instead\n",
      "\n",
      "See the caveats in the documentation: http://pandas.pydata.org/pandas-docs/stable/user_guide/indexing.html#returning-a-view-versus-a-copy\n",
      "  self.obj[item] = s\n"
     ]
    }
   ],
   "source": [
    "# We will calculate the RRAO Capital of Exotic options by multiplying 'Exotic' by 1% \n",
    "\n",
    "QIS_YES.loc[QIS_YES['RRAO category']==\"Exotic\",\"RRAO capital\"]=QIS_YES[\"Notional\"].astype(float).apply(lambda x:x*0.01)"
   ]
  },
  {
   "cell_type": "code",
   "execution_count": 6,
   "metadata": {},
   "outputs": [],
   "source": [
    "# we will calculate the RRAO Capital of Other options by multiplying 'Other' by 0.1%\n",
    "\n",
    "QIS_YES.loc[QIS_YES['RRAO category']==\"Other\",\"RRAO capital\"]=QIS_YES[\"Notional\"].astype(float).apply(lambda x:x*0.001)"
   ]
  },
  {
   "cell_type": "code",
   "execution_count": 7,
   "metadata": {},
   "outputs": [
    {
     "data": {
      "text/html": [
       "<div>\n",
       "<style scoped>\n",
       "    .dataframe tbody tr th:only-of-type {\n",
       "        vertical-align: middle;\n",
       "    }\n",
       "\n",
       "    .dataframe tbody tr th {\n",
       "        vertical-align: top;\n",
       "    }\n",
       "\n",
       "    .dataframe thead th {\n",
       "        text-align: right;\n",
       "    }\n",
       "</style>\n",
       "<table border=\"1\" class=\"dataframe\">\n",
       "  <thead>\n",
       "    <tr style=\"text-align: right;\">\n",
       "      <th></th>\n",
       "      <th>Desk</th>\n",
       "      <th>Region</th>\n",
       "      <th>In QIS</th>\n",
       "      <th>RRAO category</th>\n",
       "      <th>Notional</th>\n",
       "      <th>RRAO capital</th>\n",
       "    </tr>\n",
       "  </thead>\n",
       "  <tbody>\n",
       "    <tr>\n",
       "      <td>0</td>\n",
       "      <td>FX emerging markets</td>\n",
       "      <td>EMEA</td>\n",
       "      <td>Yes</td>\n",
       "      <td>Exotic</td>\n",
       "      <td>500000.0</td>\n",
       "      <td>5000.0</td>\n",
       "    </tr>\n",
       "    <tr>\n",
       "      <td>1</td>\n",
       "      <td>FX G20 ccys</td>\n",
       "      <td>NaN</td>\n",
       "      <td>Yes</td>\n",
       "      <td>Other</td>\n",
       "      <td>1000000.0</td>\n",
       "      <td>1000.0</td>\n",
       "    </tr>\n",
       "    <tr>\n",
       "      <td>4</td>\n",
       "      <td>EQ North America</td>\n",
       "      <td>NaN</td>\n",
       "      <td>Yes</td>\n",
       "      <td>Exotic</td>\n",
       "      <td>500000.0</td>\n",
       "      <td>5000.0</td>\n",
       "    </tr>\n",
       "  </tbody>\n",
       "</table>\n",
       "</div>"
      ],
      "text/plain": [
       "                  Desk Region In QIS RRAO category   Notional  RRAO capital\n",
       "0  FX emerging markets   EMEA    Yes        Exotic   500000.0        5000.0\n",
       "1          FX G20 ccys    NaN    Yes         Other  1000000.0        1000.0\n",
       "4     EQ North America    NaN    Yes        Exotic   500000.0        5000.0"
      ]
     },
     "execution_count": 7,
     "metadata": {},
     "output_type": "execute_result"
    }
   ],
   "source": [
    "# Return QIA_YES and all headers\n",
    "\n",
    "QIS_YES.head()"
   ]
  },
  {
   "cell_type": "code",
   "execution_count": 8,
   "metadata": {},
   "outputs": [],
   "source": [
    "# we will sum the RRAO capital from the new column named RRAO capital\n",
    "\n",
    "Total_Capital_Charge=QIS_YES[\"RRAO capital\"].sum(skipna=True)"
   ]
  },
  {
   "cell_type": "code",
   "execution_count": 9,
   "metadata": {},
   "outputs": [
    {
     "name": "stdout",
     "output_type": "stream",
     "text": [
      "11000.0\n"
     ]
    }
   ],
   "source": [
    "# Print result of total capital charge\n",
    "\n",
    "print(Total_Capital_Charge)"
   ]
  },
  {
   "cell_type": "code",
   "execution_count": null,
   "metadata": {},
   "outputs": [],
   "source": []
  }
 ],
 "metadata": {
  "kernelspec": {
   "display_name": "Python 3",
   "language": "python",
   "name": "python3"
  },
  "language_info": {
   "codemirror_mode": {
    "name": "ipython",
    "version": 3
   },
   "file_extension": ".py",
   "mimetype": "text/x-python",
   "name": "python",
   "nbconvert_exporter": "python",
   "pygments_lexer": "ipython3",
   "version": "3.7.4"
  }
 },
 "nbformat": 4,
 "nbformat_minor": 2
}

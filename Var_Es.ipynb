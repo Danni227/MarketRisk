{
 "cells": [
  {
   "cell_type": "code",
   "execution_count": 1,
   "metadata": {},
   "outputs": [],
   "source": [
    "# To use these packages, we need to import them first.\n",
    "\n",
    "import pathlib           # Use the handy Python directory and path library\n",
    "import math   as m       # The standard Python math library\n",
    "import numpy  as np      # Numpy array library\n",
    "import pandas as pd      # Pandas data table and time series library\n",
    "\n",
    "\n",
    "input_dir = pathlib.Path('InputFolder_Assig')   # Our input files are here."
   ]
  },
  {
   "cell_type": "code",
   "execution_count": 2,
   "metadata": {},
   "outputs": [],
   "source": [
    "from scipy.stats import norm      # Import the Normal distribution library"
   ]
  },
  {
   "cell_type": "code",
   "execution_count": 3,
   "metadata": {},
   "outputs": [
    {
     "name": "stdout",
     "output_type": "stream",
     "text": [
      "Scenario       False\n",
      "Scenario PV    False\n",
      "dtype: bool\n"
     ]
    },
    {
     "data": {
      "text/html": [
       "<div>\n",
       "<style scoped>\n",
       "    .dataframe tbody tr th:only-of-type {\n",
       "        vertical-align: middle;\n",
       "    }\n",
       "\n",
       "    .dataframe tbody tr th {\n",
       "        vertical-align: top;\n",
       "    }\n",
       "\n",
       "    .dataframe thead th {\n",
       "        text-align: right;\n",
       "    }\n",
       "</style>\n",
       "<table border=\"1\" class=\"dataframe\">\n",
       "  <thead>\n",
       "    <tr style=\"text-align: right;\">\n",
       "      <th></th>\n",
       "      <th>Scenario</th>\n",
       "      <th>Scenario PV</th>\n",
       "    </tr>\n",
       "  </thead>\n",
       "  <tbody>\n",
       "    <tr>\n",
       "      <td>0</td>\n",
       "      <td>1</td>\n",
       "      <td>144.089996</td>\n",
       "    </tr>\n",
       "    <tr>\n",
       "      <td>1</td>\n",
       "      <td>2</td>\n",
       "      <td>140.919998</td>\n",
       "    </tr>\n",
       "    <tr>\n",
       "      <td>2</td>\n",
       "      <td>3</td>\n",
       "      <td>140.639999</td>\n",
       "    </tr>\n",
       "    <tr>\n",
       "      <td>3</td>\n",
       "      <td>4</td>\n",
       "      <td>149.220001</td>\n",
       "    </tr>\n",
       "    <tr>\n",
       "      <td>4</td>\n",
       "      <td>5</td>\n",
       "      <td>150.389999</td>\n",
       "    </tr>\n",
       "    <tr>\n",
       "      <td>...</td>\n",
       "      <td>...</td>\n",
       "      <td>...</td>\n",
       "    </tr>\n",
       "    <tr>\n",
       "      <td>245</td>\n",
       "      <td>246</td>\n",
       "      <td>159.602245</td>\n",
       "    </tr>\n",
       "    <tr>\n",
       "      <td>246</td>\n",
       "      <td>247</td>\n",
       "      <td>159.553716</td>\n",
       "    </tr>\n",
       "    <tr>\n",
       "      <td>247</td>\n",
       "      <td>248</td>\n",
       "      <td>158.689690</td>\n",
       "    </tr>\n",
       "    <tr>\n",
       "      <td>248</td>\n",
       "      <td>249</td>\n",
       "      <td>158.825604</td>\n",
       "    </tr>\n",
       "    <tr>\n",
       "      <td>249</td>\n",
       "      <td>250</td>\n",
       "      <td>157.146080</td>\n",
       "    </tr>\n",
       "  </tbody>\n",
       "</table>\n",
       "<p>250 rows × 2 columns</p>\n",
       "</div>"
      ],
      "text/plain": [
       "     Scenario  Scenario PV\n",
       "0           1   144.089996\n",
       "1           2   140.919998\n",
       "2           3   140.639999\n",
       "3           4   149.220001\n",
       "4           5   150.389999\n",
       "..        ...          ...\n",
       "245       246   159.602245\n",
       "246       247   159.553716\n",
       "247       248   158.689690\n",
       "248       249   158.825604\n",
       "249       250   157.146080\n",
       "\n",
       "[250 rows x 2 columns]"
      ]
     },
     "execution_count": 3,
     "metadata": {},
     "output_type": "execute_result"
    }
   ],
   "source": [
    "# Using na_filter = True (which is the default setting) detects missing\n",
    "# values from source and converts them to NaN in the dataframe\n",
    "\n",
    "pv_data = pd.read_csv(r'C:\\Users\\Elle Westwood\\Documents\\FINBA_files\\Inputfolder_Assig\\PV.csv', na_filter = True )\n",
    "\n",
    "print( pv_data.isnull().any() )\n",
    "\n",
    "pv_data"
   ]
  },
  {
   "cell_type": "code",
   "execution_count": 4,
   "metadata": {},
   "outputs": [
    {
     "name": "stdout",
     "output_type": "stream",
     "text": [
      "<class 'pandas.core.frame.DataFrame'>\n",
      "RangeIndex: 250 entries, 0 to 249\n",
      "Data columns (total 2 columns):\n",
      "Scenario       250 non-null int64\n",
      "Scenario PV    250 non-null float64\n",
      "dtypes: float64(1), int64(1)\n",
      "memory usage: 4.0 KB\n"
     ]
    }
   ],
   "source": [
    "pv_data.info()   # Get info on dataframe"
   ]
  },
  {
   "cell_type": "code",
   "execution_count": 5,
   "metadata": {},
   "outputs": [],
   "source": [
    "# Assign base pv to the variable 'a'\n",
    "a = 150"
   ]
  },
  {
   "cell_type": "code",
   "execution_count": 6,
   "metadata": {},
   "outputs": [
    {
     "data": {
      "text/html": [
       "<div>\n",
       "<style scoped>\n",
       "    .dataframe tbody tr th:only-of-type {\n",
       "        vertical-align: middle;\n",
       "    }\n",
       "\n",
       "    .dataframe tbody tr th {\n",
       "        vertical-align: top;\n",
       "    }\n",
       "\n",
       "    .dataframe thead th {\n",
       "        text-align: right;\n",
       "    }\n",
       "</style>\n",
       "<table border=\"1\" class=\"dataframe\">\n",
       "  <thead>\n",
       "    <tr style=\"text-align: right;\">\n",
       "      <th></th>\n",
       "      <th>Scenario</th>\n",
       "      <th>Scenario PV</th>\n",
       "      <th>PnL</th>\n",
       "    </tr>\n",
       "  </thead>\n",
       "  <tbody>\n",
       "    <tr>\n",
       "      <td>0</td>\n",
       "      <td>1</td>\n",
       "      <td>144.089996</td>\n",
       "      <td>-5.910004</td>\n",
       "    </tr>\n",
       "    <tr>\n",
       "      <td>1</td>\n",
       "      <td>2</td>\n",
       "      <td>140.919998</td>\n",
       "      <td>-9.080002</td>\n",
       "    </tr>\n",
       "    <tr>\n",
       "      <td>2</td>\n",
       "      <td>3</td>\n",
       "      <td>140.639999</td>\n",
       "      <td>-9.360001</td>\n",
       "    </tr>\n",
       "    <tr>\n",
       "      <td>3</td>\n",
       "      <td>4</td>\n",
       "      <td>149.220001</td>\n",
       "      <td>-0.779999</td>\n",
       "    </tr>\n",
       "    <tr>\n",
       "      <td>4</td>\n",
       "      <td>5</td>\n",
       "      <td>150.389999</td>\n",
       "      <td>0.389999</td>\n",
       "    </tr>\n",
       "    <tr>\n",
       "      <td>...</td>\n",
       "      <td>...</td>\n",
       "      <td>...</td>\n",
       "      <td>...</td>\n",
       "    </tr>\n",
       "    <tr>\n",
       "      <td>245</td>\n",
       "      <td>246</td>\n",
       "      <td>159.602245</td>\n",
       "      <td>9.602245</td>\n",
       "    </tr>\n",
       "    <tr>\n",
       "      <td>246</td>\n",
       "      <td>247</td>\n",
       "      <td>159.553716</td>\n",
       "      <td>9.553716</td>\n",
       "    </tr>\n",
       "    <tr>\n",
       "      <td>247</td>\n",
       "      <td>248</td>\n",
       "      <td>158.689690</td>\n",
       "      <td>8.689690</td>\n",
       "    </tr>\n",
       "    <tr>\n",
       "      <td>248</td>\n",
       "      <td>249</td>\n",
       "      <td>158.825604</td>\n",
       "      <td>8.825604</td>\n",
       "    </tr>\n",
       "    <tr>\n",
       "      <td>249</td>\n",
       "      <td>250</td>\n",
       "      <td>157.146080</td>\n",
       "      <td>7.146080</td>\n",
       "    </tr>\n",
       "  </tbody>\n",
       "</table>\n",
       "<p>250 rows × 3 columns</p>\n",
       "</div>"
      ],
      "text/plain": [
       "     Scenario  Scenario PV       PnL\n",
       "0           1   144.089996 -5.910004\n",
       "1           2   140.919998 -9.080002\n",
       "2           3   140.639999 -9.360001\n",
       "3           4   149.220001 -0.779999\n",
       "4           5   150.389999  0.389999\n",
       "..        ...          ...       ...\n",
       "245       246   159.602245  9.602245\n",
       "246       247   159.553716  9.553716\n",
       "247       248   158.689690  8.689690\n",
       "248       249   158.825604  8.825604\n",
       "249       250   157.146080  7.146080\n",
       "\n",
       "[250 rows x 3 columns]"
      ]
     },
     "execution_count": 6,
     "metadata": {},
     "output_type": "execute_result"
    }
   ],
   "source": [
    "#We are using 150 as base PV to calculate the clean PnL using formula \n",
    "#Clean PnL =  clean_PV - Base_Pv\n",
    "\n",
    "pv_data[\"PnL\"]= (pv_data[\"Scenario PV\"] - a)\n",
    "pv_data"
   ]
  },
  {
   "cell_type": "code",
   "execution_count": 7,
   "metadata": {},
   "outputs": [
    {
     "data": {
      "text/html": [
       "<div>\n",
       "<style scoped>\n",
       "    .dataframe tbody tr th:only-of-type {\n",
       "        vertical-align: middle;\n",
       "    }\n",
       "\n",
       "    .dataframe tbody tr th {\n",
       "        vertical-align: top;\n",
       "    }\n",
       "\n",
       "    .dataframe thead th {\n",
       "        text-align: right;\n",
       "    }\n",
       "</style>\n",
       "<table border=\"1\" class=\"dataframe\">\n",
       "  <thead>\n",
       "    <tr style=\"text-align: right;\">\n",
       "      <th></th>\n",
       "      <th>Scenario</th>\n",
       "      <th>Scenario PV</th>\n",
       "      <th>PnL</th>\n",
       "      <th>PnL_Rank</th>\n",
       "    </tr>\n",
       "  </thead>\n",
       "  <tbody>\n",
       "    <tr>\n",
       "      <td>2</td>\n",
       "      <td>3</td>\n",
       "      <td>140.639999</td>\n",
       "      <td>-9.360001</td>\n",
       "      <td>1.0</td>\n",
       "    </tr>\n",
       "    <tr>\n",
       "      <td>1</td>\n",
       "      <td>2</td>\n",
       "      <td>140.919998</td>\n",
       "      <td>-9.080002</td>\n",
       "      <td>2.0</td>\n",
       "    </tr>\n",
       "    <tr>\n",
       "      <td>41</td>\n",
       "      <td>42</td>\n",
       "      <td>140.960007</td>\n",
       "      <td>-9.039993</td>\n",
       "      <td>3.0</td>\n",
       "    </tr>\n",
       "    <tr>\n",
       "      <td>17</td>\n",
       "      <td>18</td>\n",
       "      <td>142.470001</td>\n",
       "      <td>-7.529999</td>\n",
       "      <td>4.0</td>\n",
       "    </tr>\n",
       "    <tr>\n",
       "      <td>18</td>\n",
       "      <td>19</td>\n",
       "      <td>142.520004</td>\n",
       "      <td>-7.479996</td>\n",
       "      <td>5.0</td>\n",
       "    </tr>\n",
       "    <tr>\n",
       "      <td>...</td>\n",
       "      <td>...</td>\n",
       "      <td>...</td>\n",
       "      <td>...</td>\n",
       "      <td>...</td>\n",
       "    </tr>\n",
       "    <tr>\n",
       "      <td>111</td>\n",
       "      <td>112</td>\n",
       "      <td>171.833533</td>\n",
       "      <td>21.833533</td>\n",
       "      <td>246.0</td>\n",
       "    </tr>\n",
       "    <tr>\n",
       "      <td>107</td>\n",
       "      <td>108</td>\n",
       "      <td>171.912876</td>\n",
       "      <td>21.912876</td>\n",
       "      <td>247.0</td>\n",
       "    </tr>\n",
       "    <tr>\n",
       "      <td>109</td>\n",
       "      <td>110</td>\n",
       "      <td>172.051723</td>\n",
       "      <td>22.051723</td>\n",
       "      <td>248.0</td>\n",
       "    </tr>\n",
       "    <tr>\n",
       "      <td>108</td>\n",
       "      <td>109</td>\n",
       "      <td>172.329416</td>\n",
       "      <td>22.329416</td>\n",
       "      <td>249.0</td>\n",
       "    </tr>\n",
       "    <tr>\n",
       "      <td>112</td>\n",
       "      <td>113</td>\n",
       "      <td>172.617037</td>\n",
       "      <td>22.617037</td>\n",
       "      <td>250.0</td>\n",
       "    </tr>\n",
       "  </tbody>\n",
       "</table>\n",
       "<p>250 rows × 4 columns</p>\n",
       "</div>"
      ],
      "text/plain": [
       "     Scenario  Scenario PV        PnL  PnL_Rank\n",
       "2           3   140.639999  -9.360001       1.0\n",
       "1           2   140.919998  -9.080002       2.0\n",
       "41         42   140.960007  -9.039993       3.0\n",
       "17         18   142.470001  -7.529999       4.0\n",
       "18         19   142.520004  -7.479996       5.0\n",
       "..        ...          ...        ...       ...\n",
       "111       112   171.833533  21.833533     246.0\n",
       "107       108   171.912876  21.912876     247.0\n",
       "109       110   172.051723  22.051723     248.0\n",
       "108       109   172.329416  22.329416     249.0\n",
       "112       113   172.617037  22.617037     250.0\n",
       "\n",
       "[250 rows x 4 columns]"
      ]
     },
     "execution_count": 7,
     "metadata": {},
     "output_type": "execute_result"
    }
   ],
   "source": [
    "#Sort the PnLs from the raw vector in increasing order with worst loss at the top, and add the ranks \n",
    "pv_data[\"PnL_Rank\"] = pv_data[\"PnL\"].rank() \n",
    "pv_data.sort_values(\"PnL\", inplace = True) \n",
    "\n",
    "pv_data\n",
    "  "
   ]
  },
  {
   "cell_type": "code",
   "execution_count": 8,
   "metadata": {},
   "outputs": [
    {
     "name": "stdout",
     "output_type": "stream",
     "text": [
      "2.500000000000002\n"
     ]
    }
   ],
   "source": [
    "#Calculate the VaR rank by multiplying the ('1 -percentile or confidence level') by the number of data values in the vector\n",
    "\n",
    "#((1-99%)*count(pv_data))\n",
    "\n",
    "count_row = pv_data.shape[0]   # count rows in a dataframe\n",
    "count_row\n",
    "\n",
    "M = ((1-0.99) * count_row)    #apply formula\n",
    "print (M)\n"
   ]
  },
  {
   "attachments": {
    "pic1.png": {
     "image/png": "[encoded data removed]"
    }
   },
   "cell_type": "markdown",
   "metadata": {},
   "source": [
    "![pic1.png](attachment:pic1.png)"
   ]
  },
  {
   "cell_type": "markdown",
   "metadata": {},
   "source": [
    "Formula used to calculate VAR"
   ]
  },
  {
   "cell_type": "code",
   "execution_count": 9,
   "metadata": {},
   "outputs": [],
   "source": [
    "# Assign parameters using iloc\n",
    "\n",
    "y0= pv_data.iloc[1,2]\n",
    "y1= pv_data.iloc[2,2]\n",
    "x= M\n",
    "x0= pv_data.iloc[1,3] \n",
    "x1= pv_data.iloc[2,3]"
   ]
  },
  {
   "cell_type": "code",
   "execution_count": 10,
   "metadata": {},
   "outputs": [],
   "source": [
    "# Calculate the value corresponding to the rank from previous step. Interpolate if required.\n",
    "def Var (y0, y1, x, x0, x1):\n",
    "\n",
    "    Var99 = y0 + (y1 - y0) * ((x - x0)/(x1 - x0))\n",
    "    \n",
    "    return Var99"
   ]
  },
  {
   "cell_type": "code",
   "execution_count": 11,
   "metadata": {},
   "outputs": [
    {
     "name": "stdout",
     "output_type": "stream",
     "text": [
      "Var99:  -9.059997499999994\n"
     ]
    }
   ],
   "source": [
    "x = Var (y0, y1, x, x0, x1) #Return Var\n",
    "\n",
    "print (\"Var99: \",x )"
   ]
  },
  {
   "cell_type": "markdown",
   "metadata": {},
   "source": [
    "Compute 97.5% ES"
   ]
  },
  {
   "cell_type": "code",
   "execution_count": 12,
   "metadata": {},
   "outputs": [
    {
     "name": "stdout",
     "output_type": "stream",
     "text": [
      "6.250000000000005\n"
     ]
    }
   ],
   "source": [
    "#Calculate the VaR rank by multiplying the ('1 -percentile or confidence level') by the number of data values in the vector\n",
    "\n",
    "#((1-97.7%)*count(pv_data))\n",
    "\n",
    "count_row = pv_data.shape[0]    # count rows in a dataframe\n",
    "count_row\n",
    "\n",
    "N = ((1-0.975) * count_row)    # apply formula to get rank\n",
    "print (N)\n"
   ]
  },
  {
   "cell_type": "code",
   "execution_count": 13,
   "metadata": {},
   "outputs": [
    {
     "data": {
      "text/plain": [
       "6"
      ]
     },
     "execution_count": 13,
     "metadata": {},
     "output_type": "execute_result"
    }
   ],
   "source": [
    "#Take the number of worst losses corresponding to the integer and take the average\n",
    "# Take the integer part of the Rank\t\n",
    "int(N//1)"
   ]
  },
  {
   "cell_type": "code",
   "execution_count": 15,
   "metadata": {},
   "outputs": [],
   "source": [
    "Newcol=(pv_data.iloc[0:6,2:4] ) #Assign the first 6 rows on colume \"PnL\" "
   ]
  },
  {
   "cell_type": "code",
   "execution_count": 16,
   "metadata": {},
   "outputs": [
    {
     "data": {
      "text/html": [
       "<div>\n",
       "<style scoped>\n",
       "    .dataframe tbody tr th:only-of-type {\n",
       "        vertical-align: middle;\n",
       "    }\n",
       "\n",
       "    .dataframe tbody tr th {\n",
       "        vertical-align: top;\n",
       "    }\n",
       "\n",
       "    .dataframe thead th {\n",
       "        text-align: right;\n",
       "    }\n",
       "</style>\n",
       "<table border=\"1\" class=\"dataframe\">\n",
       "  <thead>\n",
       "    <tr style=\"text-align: right;\">\n",
       "      <th></th>\n",
       "      <th>PnL</th>\n",
       "      <th>PnL_Rank</th>\n",
       "    </tr>\n",
       "  </thead>\n",
       "  <tbody>\n",
       "    <tr>\n",
       "      <td>2</td>\n",
       "      <td>-9.360001</td>\n",
       "      <td>1.0</td>\n",
       "    </tr>\n",
       "    <tr>\n",
       "      <td>1</td>\n",
       "      <td>-9.080002</td>\n",
       "      <td>2.0</td>\n",
       "    </tr>\n",
       "    <tr>\n",
       "      <td>41</td>\n",
       "      <td>-9.039993</td>\n",
       "      <td>3.0</td>\n",
       "    </tr>\n",
       "    <tr>\n",
       "      <td>17</td>\n",
       "      <td>-7.529999</td>\n",
       "      <td>4.0</td>\n",
       "    </tr>\n",
       "    <tr>\n",
       "      <td>18</td>\n",
       "      <td>-7.479996</td>\n",
       "      <td>5.0</td>\n",
       "    </tr>\n",
       "    <tr>\n",
       "      <td>36</td>\n",
       "      <td>-7.320007</td>\n",
       "      <td>6.0</td>\n",
       "    </tr>\n",
       "  </tbody>\n",
       "</table>\n",
       "</div>"
      ],
      "text/plain": [
       "         PnL  PnL_Rank\n",
       "2  -9.360001       1.0\n",
       "1  -9.080002       2.0\n",
       "41 -9.039993       3.0\n",
       "17 -7.529999       4.0\n",
       "18 -7.479996       5.0\n",
       "36 -7.320007       6.0"
      ]
     },
     "execution_count": 16,
     "metadata": {},
     "output_type": "execute_result"
    }
   ],
   "source": [
    "Newcol # "
   ]
  },
  {
   "cell_type": "code",
   "execution_count": 17,
   "metadata": {},
   "outputs": [
    {
     "data": {
      "text/plain": [
       "2    -9.360001\n",
       "1    -9.080002\n",
       "41   -9.039993\n",
       "17   -7.529999\n",
       "18   -7.479996\n",
       "36   -7.320007\n",
       "Name: PnL, dtype: float64"
      ]
     },
     "execution_count": 17,
     "metadata": {},
     "output_type": "execute_result"
    }
   ],
   "source": [
    "Newcol[\"PnL\"]"
   ]
  },
  {
   "cell_type": "code",
   "execution_count": 18,
   "metadata": {},
   "outputs": [
    {
     "data": {
      "text/plain": [
       "pandas.core.frame.DataFrame"
      ]
     },
     "execution_count": 18,
     "metadata": {},
     "output_type": "execute_result"
    }
   ],
   "source": [
    "type(Newcol)"
   ]
  },
  {
   "cell_type": "code",
   "execution_count": 19,
   "metadata": {},
   "outputs": [],
   "source": [
    "# Take the average\n",
    "avg=Newcol[\"PnL\"].mean(axis=0)"
   ]
  },
  {
   "cell_type": "code",
   "execution_count": 20,
   "metadata": {},
   "outputs": [
    {
     "data": {
      "text/plain": [
       "-8.301666333333335"
      ]
     },
     "execution_count": 20,
     "metadata": {},
     "output_type": "execute_result"
    }
   ],
   "source": [
    "avg"
   ]
  }
 ],
 "metadata": {
  "kernelspec": {
   "display_name": "Python 3",
   "language": "python",
   "name": "python3"
  },
  "language_info": {
   "codemirror_mode": {
    "name": "ipython",
    "version": 3
   },
   "file_extension": ".py",
   "mimetype": "text/x-python",
   "name": "python",
   "nbconvert_exporter": "python",
   "pygments_lexer": "ipython3",
   "version": "3.7.4"
  }
 },
 "nbformat": 4,
 "nbformat_minor": 2
}

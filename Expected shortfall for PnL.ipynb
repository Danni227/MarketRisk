{
 "cells": [
  {
   "cell_type": "code",
   "execution_count": 6,
   "metadata": {},
   "outputs": [
    {
     "name": "stdout",
     "output_type": "stream",
     "text": [
      "not satisfying condition -10.360000999999999\n",
      "not satisfying condition -10.220001499999999\n",
      "not satisfying condition -10.159998666666665\n",
      "not satisfying condition -9.95999925\n",
      "not satisfying condition -9.7839998\n",
      "not satisfying condition -9.659998666666667\n",
      "not satisfying condition -9.498570142857144\n",
      "not satisfying condition -9.371248375\n",
      "not satisfying condition -9.254443777777778\n",
      "not satisfying condition -9.081999300000001\n",
      "Expected shortfall is -8.940908363636366\n",
      "the value of end is 11\n"
     ]
    }
   ],
   "source": [
    "import pathlib        # Use the handy Python directory and path library\n",
    "import math   as m    # The standard Python math library\n",
    "import numpy  as np   # Numpy array library\n",
    "import pandas as pd   # Pandas data table and time series library\n",
    "\n",
    "input_dir = pathlib.Path('InputFolder_Assig')\n",
    "\n",
    "from scipy.stats import norm\n",
    "\n",
    "pv_data = pd.read_csv( input_dir / 'PnlVectorData.csv', na_filter = False) # This is done to get the data from the CSV file.\n",
    "pv_data\n",
    "\n",
    "pv=pv_data.sort_values(['PnL'], ascending=True).reset_index(drop=True)  #reset data in accending order\n",
    "\n",
    "end = 1\n",
    "sumx = 0\n",
    "while(end<len(pv[\"PnL\"])):\n",
    "    for i in range(end):\n",
    "        sumx = pv[\"PnL\"][i]+ sumx                  \n",
    "    avg = sumx/end\n",
    "    \n",
    "    if (avg > -9.07840):                           # use \"if statement\" to spacify condtion to be reached.\n",
    "        print(\"Expected shortfall is\",avg)\n",
    "        print(\"the value of end is\",end)\n",
    "        break                                      # use break statement to reset condition if not met\n",
    "    else:\n",
    "        print(\"not satisfying condition\",(avg))    #print statement in string if condition is not met\n",
    "        \n",
    "    avg = 0                                        \n",
    "    end = end + 1    \n",
    "    sumx = 0"
   ]
  },
  {
   "cell_type": "code",
   "execution_count": null,
   "metadata": {},
   "outputs": [],
   "source": []
  },
  {
   "cell_type": "code",
   "execution_count": null,
   "metadata": {},
   "outputs": [],
   "source": []
  }
 ],
 "metadata": {
  "kernelspec": {
   "display_name": "Python 3",
   "language": "python",
   "name": "python3"
  },
  "language_info": {
   "codemirror_mode": {
    "name": "ipython",
    "version": 3
   },
   "file_extension": ".py",
   "mimetype": "text/x-python",
   "name": "python",
   "nbconvert_exporter": "python",
   "pygments_lexer": "ipython3",
   "version": "3.7.4"
  }
 },
 "nbformat": 4,
 "nbformat_minor": 2
}
